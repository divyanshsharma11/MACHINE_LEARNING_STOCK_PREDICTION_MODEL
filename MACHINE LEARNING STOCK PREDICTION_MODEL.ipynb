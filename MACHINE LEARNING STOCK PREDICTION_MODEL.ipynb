{
 "cells": [
  {
   "cell_type": "code",
   "execution_count": 1,
   "metadata": {},
   "outputs": [],
   "source": [
    "import numpy as np\n",
    "import pandas as pd\n",
    "from pandas import Series,DataFrame\n",
    "pd.core.common.is_list_like = pd.api.types.is_list_like\n",
    "import pandas_datareader as pdr\n",
    "from sklearn.linear_model import LinearRegression\n",
    "from sklearn.svm import SVR\n",
    "from sklearn.model_selection import train_test_split"
   ]
  },
  {
   "cell_type": "code",
   "execution_count": 2,
   "metadata": {},
   "outputs": [
    {
     "name": "stdout",
     "output_type": "stream",
     "text": [
      "                     1. open  2. high  3. low  4. close  5. volume\n",
      "date                                                              \n",
      "2020-11-03 20:00:00   206.20   206.50  206.00    206.00     3002.0\n",
      "2020-11-03 19:59:00   206.29   206.32  206.10    206.20     3206.0\n",
      "2020-11-03 19:58:00   206.60   206.60  206.50    206.50     2630.0\n",
      "2020-11-03 19:57:00   206.52   206.52  206.52    206.52      710.0\n",
      "2020-11-03 19:56:00   206.81   206.81  206.52    206.52     2364.0\n",
      "...                      ...      ...     ...       ...        ...\n",
      "2020-10-21 04:21:00   214.52   214.52  214.52    214.52      275.0\n",
      "2020-10-21 04:09:00   214.52   214.52  214.52    214.52      280.0\n",
      "2020-10-21 04:06:00   214.52   214.52  214.52    214.52     1001.0\n",
      "2020-10-21 04:05:00   214.92   214.92  214.90    214.90      511.0\n",
      "2020-10-21 04:01:00   215.46   215.46  215.00    215.25     1780.0\n",
      "\n",
      "[7006 rows x 5 columns]\n"
     ]
    }
   ],
   "source": [
    "#GETTING THE STOCK DATA USING THE API KEY FOR ALPHA VANTAGE\n",
    "\n",
    "api_key='API KEY'\n",
    "import pandas as pd\n",
    "from alpha_vantage.timeseries import TimeSeries\n",
    "import time\n",
    "\n",
    "ts = TimeSeries(key=api_key,output_format='pandas')\n",
    "data,meta_data = ts.get_intraday(symbol='MSFT',interval='1min',outputsize='full')\n",
    "\n",
    "print(data)"
   ]
  },
  {
   "cell_type": "code",
   "execution_count": 3,
   "metadata": {},
   "outputs": [
    {
     "data": {
      "text/plain": [
       "(7006, 5)"
      ]
     },
     "execution_count": 3,
     "metadata": {},
     "output_type": "execute_result"
    }
   ],
   "source": [
    "df=data\n",
    "df.head()\n",
    "df.shape"
   ]
  },
  {
   "cell_type": "markdown",
   "metadata": {},
   "source": [
    "#GET THE 'CLOSE PRICE' \n",
    "df=df[['4. close']]\n",
    "\n",
    "df.head()"
   ]
  },
  {
   "cell_type": "code",
   "execution_count": 4,
   "metadata": {},
   "outputs": [
    {
     "data": {
      "text/html": [
       "<div>\n",
       "<style scoped>\n",
       "    .dataframe tbody tr th:only-of-type {\n",
       "        vertical-align: middle;\n",
       "    }\n",
       "\n",
       "    .dataframe tbody tr th {\n",
       "        vertical-align: top;\n",
       "    }\n",
       "\n",
       "    .dataframe thead th {\n",
       "        text-align: right;\n",
       "    }\n",
       "</style>\n",
       "<table border=\"1\" class=\"dataframe\">\n",
       "  <thead>\n",
       "    <tr style=\"text-align: right;\">\n",
       "      <th></th>\n",
       "      <th>1. open</th>\n",
       "      <th>2. high</th>\n",
       "      <th>3. low</th>\n",
       "      <th>4. close</th>\n",
       "      <th>5. volume</th>\n",
       "    </tr>\n",
       "    <tr>\n",
       "      <th>date</th>\n",
       "      <th></th>\n",
       "      <th></th>\n",
       "      <th></th>\n",
       "      <th></th>\n",
       "      <th></th>\n",
       "    </tr>\n",
       "  </thead>\n",
       "  <tbody>\n",
       "    <tr>\n",
       "      <td>2020-10-30 11:34:00</td>\n",
       "      <td>199.73</td>\n",
       "      <td>199.7500</td>\n",
       "      <td>199.650</td>\n",
       "      <td>199.6800</td>\n",
       "      <td>61735.0</td>\n",
       "    </tr>\n",
       "    <tr>\n",
       "      <td>2020-10-30 11:41:00</td>\n",
       "      <td>199.96</td>\n",
       "      <td>200.0600</td>\n",
       "      <td>199.660</td>\n",
       "      <td>199.7100</td>\n",
       "      <td>105035.0</td>\n",
       "    </tr>\n",
       "    <tr>\n",
       "      <td>2020-10-30 11:39:00</td>\n",
       "      <td>199.78</td>\n",
       "      <td>199.8143</td>\n",
       "      <td>199.640</td>\n",
       "      <td>199.7500</td>\n",
       "      <td>115852.0</td>\n",
       "    </tr>\n",
       "    <tr>\n",
       "      <td>2020-10-30 11:33:00</td>\n",
       "      <td>199.88</td>\n",
       "      <td>199.8900</td>\n",
       "      <td>199.745</td>\n",
       "      <td>199.7598</td>\n",
       "      <td>91942.0</td>\n",
       "    </tr>\n",
       "    <tr>\n",
       "      <td>2020-10-30 11:00:00</td>\n",
       "      <td>200.01</td>\n",
       "      <td>200.0500</td>\n",
       "      <td>199.760</td>\n",
       "      <td>199.7700</td>\n",
       "      <td>392834.0</td>\n",
       "    </tr>\n",
       "    <tr>\n",
       "      <td>...</td>\n",
       "      <td>...</td>\n",
       "      <td>...</td>\n",
       "      <td>...</td>\n",
       "      <td>...</td>\n",
       "      <td>...</td>\n",
       "    </tr>\n",
       "    <tr>\n",
       "      <td>2020-10-21 14:58:00</td>\n",
       "      <td>216.88</td>\n",
       "      <td>216.9000</td>\n",
       "      <td>216.781</td>\n",
       "      <td>216.8880</td>\n",
       "      <td>30234.0</td>\n",
       "    </tr>\n",
       "    <tr>\n",
       "      <td>2020-10-23 19:51:00</td>\n",
       "      <td>216.85</td>\n",
       "      <td>216.8900</td>\n",
       "      <td>216.850</td>\n",
       "      <td>216.8900</td>\n",
       "      <td>344.0</td>\n",
       "    </tr>\n",
       "    <tr>\n",
       "      <td>2020-10-23 19:52:00</td>\n",
       "      <td>216.95</td>\n",
       "      <td>216.9500</td>\n",
       "      <td>216.900</td>\n",
       "      <td>216.9000</td>\n",
       "      <td>1029.0</td>\n",
       "    </tr>\n",
       "    <tr>\n",
       "      <td>2020-10-23 19:54:00</td>\n",
       "      <td>216.98</td>\n",
       "      <td>216.9800</td>\n",
       "      <td>216.980</td>\n",
       "      <td>216.9800</td>\n",
       "      <td>777.0</td>\n",
       "    </tr>\n",
       "    <tr>\n",
       "      <td>2020-10-23 19:53:00</td>\n",
       "      <td>217.00</td>\n",
       "      <td>217.0000</td>\n",
       "      <td>217.000</td>\n",
       "      <td>217.0000</td>\n",
       "      <td>1250.0</td>\n",
       "    </tr>\n",
       "  </tbody>\n",
       "</table>\n",
       "<p>7006 rows × 5 columns</p>\n",
       "</div>"
      ],
      "text/plain": [
       "                     1. open   2. high   3. low  4. close  5. volume\n",
       "date                                                                \n",
       "2020-10-30 11:34:00   199.73  199.7500  199.650  199.6800    61735.0\n",
       "2020-10-30 11:41:00   199.96  200.0600  199.660  199.7100   105035.0\n",
       "2020-10-30 11:39:00   199.78  199.8143  199.640  199.7500   115852.0\n",
       "2020-10-30 11:33:00   199.88  199.8900  199.745  199.7598    91942.0\n",
       "2020-10-30 11:00:00   200.01  200.0500  199.760  199.7700   392834.0\n",
       "...                      ...       ...      ...       ...        ...\n",
       "2020-10-21 14:58:00   216.88  216.9000  216.781  216.8880    30234.0\n",
       "2020-10-23 19:51:00   216.85  216.8900  216.850  216.8900      344.0\n",
       "2020-10-23 19:52:00   216.95  216.9500  216.900  216.9000     1029.0\n",
       "2020-10-23 19:54:00   216.98  216.9800  216.980  216.9800      777.0\n",
       "2020-10-23 19:53:00   217.00  217.0000  217.000  217.0000     1250.0\n",
       "\n",
       "[7006 rows x 5 columns]"
      ]
     },
     "execution_count": 4,
     "metadata": {},
     "output_type": "execute_result"
    }
   ],
   "source": [
    "df.sort_values('4. close')"
   ]
  },
  {
   "cell_type": "raw",
   "metadata": {},
   "source": [
    "#CREATING A VARIABLE FOR PREDICTION FOR 'n' DAYS INTO THE FUTURE DAYS \n",
    "pred=6000\n",
    "#CREATE ANOTHER COLUMN WHICH IS THE TARGET,ALSO CALLED THE DEPENDENT VARIABLE USING SHIFT() (WHICH WILL SHIFT IT 'n' UNITS UP)\n",
    "df['prediction']=df[['4. close']].shift(-pred)\n",
    "print(df.head())"
   ]
  },
  {
   "cell_type": "code",
   "execution_count": 5,
   "metadata": {},
   "outputs": [
    {
     "data": {
      "text/plain": [
       "1. open      0\n",
       "2. high      0\n",
       "3. low       0\n",
       "4. close     0\n",
       "5. volume    0\n",
       "dtype: int64"
      ]
     },
     "execution_count": 5,
     "metadata": {},
     "output_type": "execute_result"
    }
   ],
   "source": [
    "df.isnull().sum()"
   ]
  },
  {
   "cell_type": "code",
   "execution_count": 6,
   "metadata": {},
   "outputs": [
    {
     "data": {
      "text/plain": [
       "7006"
      ]
     },
     "execution_count": 6,
     "metadata": {},
     "output_type": "execute_result"
    }
   ],
   "source": [
    "df.shape[0]"
   ]
  },
  {
   "cell_type": "code",
   "execution_count": 7,
   "metadata": {},
   "outputs": [
    {
     "name": "stdout",
     "output_type": "stream",
     "text": [
      "[[ 206.2   206.5   206.   3002.  ]\n",
      " [ 206.29  206.32  206.1  3206.  ]\n",
      " [ 206.6   206.6   206.5  2630.  ]\n",
      " ...\n",
      " [ 214.52  214.52  214.52 1001.  ]\n",
      " [ 214.92  214.92  214.9   511.  ]\n",
      " [ 215.46  215.46  215.   1780.  ]]\n",
      "(7006, 4)\n"
     ]
    }
   ],
   "source": [
    "#CREATE THE INDEPENDENT DATASET (X)\n",
    "#CONVERTING THE DATAFRAME INTO A NUMPY ARRAY\n",
    "X = df.drop(['4. close'],1).values\n",
    "#X = df.drop(['date'],1).values\n",
    "#X = X[:]\n",
    "print(X)\n",
    "df.columns\n",
    "print(X.shape)"
   ]
  },
  {
   "cell_type": "code",
   "execution_count": 8,
   "metadata": {},
   "outputs": [
    {
     "data": {
      "text/plain": [
       "(7006,)"
      ]
     },
     "execution_count": 8,
     "metadata": {},
     "output_type": "execute_result"
    }
   ],
   "source": [
    "#CREATE DEPENDENT DATASET (Y) and ADD THE VALUES TO IT INCLUDING NaN VALUES\n",
    "y = df['4. close'].values\n",
    "#y=y[:-pred]\n",
    "y.shape"
   ]
  },
  {
   "cell_type": "code",
   "execution_count": 9,
   "metadata": {},
   "outputs": [
    {
     "data": {
      "text/plain": [
       "(7006,)"
      ]
     },
     "execution_count": 9,
     "metadata": {},
     "output_type": "execute_result"
    }
   ],
   "source": [
    "\n",
    "#y=y.transpose()\n",
    "#y=y.reshape(-1,1)\n",
    "y.shape"
   ]
  },
  {
   "cell_type": "code",
   "execution_count": 21,
   "metadata": {
    "scrolled": false
   },
   "outputs": [
    {
     "data": {
      "text/plain": [
       "SVR(C=1000.0, cache_size=200, coef0=0.0, degree=3, epsilon=0.1, gamma=0.1,\n",
       "    kernel='rbf', max_iter=-1, shrinking=True, tol=0.001, verbose=False)"
      ]
     },
     "execution_count": 21,
     "metadata": {},
     "output_type": "execute_result"
    }
   ],
   "source": [
    "#SPLIT THE DATA USING train_test_split() TEST=20% TRAIN=80%\n",
    "x_train,x_test,y_train,y_test = train_test_split(X,y,test_size=0.2,random_state=42)\n",
    "\n",
    "#CREATE AND TRAIN SUPPORT VECTOR MACHINE(REGRESSOR)\n",
    "svr_rbf=SVR(kernel='rbf',C=1e3,gamma=0.1)\n",
    "svr_rbf.fit(x_train,y_train.ravel())"
   ]
  },
  {
   "cell_type": "code",
   "execution_count": 23,
   "metadata": {},
   "outputs": [
    {
     "data": {
      "text/plain": [
       "(1402, 4)"
      ]
     },
     "execution_count": 23,
     "metadata": {},
     "output_type": "execute_result"
    }
   ],
   "source": [
    "y_train=y_train.reshape(-1,1)\n",
    "x_test.shape"
   ]
  },
  {
   "cell_type": "code",
   "execution_count": 24,
   "metadata": {},
   "outputs": [
    {
     "data": {
      "text/plain": [
       "(5604, 1)"
      ]
     },
     "execution_count": 24,
     "metadata": {},
     "output_type": "execute_result"
    }
   ],
   "source": [
    "y_train.shape"
   ]
  },
  {
   "cell_type": "code",
   "execution_count": 25,
   "metadata": {},
   "outputs": [
    {
     "data": {
      "text/plain": [
       "LinearRegression(copy_X=True, fit_intercept=True, n_jobs=None, normalize=False)"
      ]
     },
     "execution_count": 25,
     "metadata": {},
     "output_type": "execute_result"
    }
   ],
   "source": [
    "s=LinearRegression()\n",
    "s.fit(x_train,y_train)"
   ]
  },
  {
   "cell_type": "code",
   "execution_count": 26,
   "metadata": {},
   "outputs": [
    {
     "data": {
      "text/plain": [
       "0.9996555274415654"
      ]
     },
     "execution_count": 26,
     "metadata": {},
     "output_type": "execute_result"
    }
   ],
   "source": [
    "s.score(x_test,y_test)"
   ]
  },
  {
   "cell_type": "code",
   "execution_count": 36,
   "metadata": {},
   "outputs": [
    {
     "name": "stdout",
     "output_type": "stream",
     "text": [
      "[[215.75192887]\n",
      " [212.07302901]\n",
      " [204.52103265]\n",
      " [208.54443988]\n",
      " [207.1449205 ]\n",
      " [208.00146221]\n",
      " [215.07093297]\n",
      " [203.20381548]\n",
      " [203.79457399]\n",
      " [206.96893886]]\n"
     ]
    }
   ],
   "source": [
    "y_pred=s.predict(x_test)\n",
    "print(y_pred[:10])"
   ]
  },
  {
   "cell_type": "code",
   "execution_count": 28,
   "metadata": {},
   "outputs": [
    {
     "data": {
      "text/plain": [
       "0.28859092007057596"
      ]
     },
     "execution_count": 28,
     "metadata": {},
     "output_type": "execute_result"
    }
   ],
   "source": [
    "svr_rbf.score(x_test,y_test)"
   ]
  },
  {
   "cell_type": "code",
   "execution_count": 38,
   "metadata": {},
   "outputs": [
    {
     "name": "stdout",
     "output_type": "stream",
     "text": [
      "[208.69688287 208.90151523 208.6339458  208.69533616 208.69739342\n",
      " 208.69687931 214.1596177  208.69640253 208.66125716 208.69687931]\n"
     ]
    }
   ],
   "source": [
    "pred=svr_rbf.predict(x_test)\n",
    "print(pred[:10])"
   ]
  },
  {
   "cell_type": "markdown",
   "metadata": {},
   "source": [
    "# PROJECT BY DIVYANSH SHARMA(PRESIDENCY UNIVERSITY)"
   ]
  }
 ],
 "metadata": {
  "kernelspec": {
   "display_name": "Python 3",
   "language": "python",
   "name": "python3"
  },
  "language_info": {
   "codemirror_mode": {
    "name": "ipython",
    "version": 3
   },
   "file_extension": ".py",
   "mimetype": "text/x-python",
   "name": "python",
   "nbconvert_exporter": "python",
   "pygments_lexer": "ipython3",
   "version": "3.7.4"
  }
 },
 "nbformat": 4,
 "nbformat_minor": 2
}
